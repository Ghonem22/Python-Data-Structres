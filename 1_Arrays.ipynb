{
  "cells": [
    {
      "cell_type": "markdown",
      "metadata": {
        "id": "view-in-github",
        "colab_type": "text"
      },
      "source": [
        "<a href=\"https://colab.research.google.com/github/Ghonem22/Python-Data-Structres/blob/main/1_Arrays.ipynb\" target=\"_parent\"><img src=\"https://colab.research.google.com/assets/colab-badge.svg\" alt=\"Open In Colab\"/></a>"
      ]
    },
    {
      "cell_type": "markdown",
      "id": "262eb0b5",
      "metadata": {
        "id": "262eb0b5"
      },
      "source": [
        "# implementation of python list step by step Starting from C ARRAY "
      ]
    },
    {
      "cell_type": "markdown",
      "source": [
        "## C ARRAY"
      ],
      "metadata": {
        "id": "MrOhrhWPCGbU"
      },
      "id": "MrOhrhWPCGbU"
    },
    {
      "cell_type": "markdown",
      "id": "4af2046c",
      "metadata": {
        "id": "4af2046c"
      },
      "source": [
        "## Simple class"
      ]
    },
    {
      "cell_type": "code",
      "execution_count": null,
      "id": "3ca81c4b",
      "metadata": {
        "id": "3ca81c4b"
      },
      "outputs": [],
      "source": [
        "import ctypes\n",
        "\n",
        "class Array:\n",
        "    def __init__(self, size):\n",
        "        # FIXED size array from C language\n",
        "        array_data_type = ctypes.py_object * size\n",
        "        self.size = size\n",
        "        self.memory = array_data_type()\n",
        "        # initialize the array with None \n",
        "        for i in range(size):\n",
        "            self.memory[i] = None\n"
      ]
    },
    {
      "cell_type": "code",
      "execution_count": null,
      "id": "489415c3",
      "metadata": {
        "id": "489415c3",
        "outputId": "370e1d2f-7410-4f82-ead3-2a12e7548af2"
      },
      "outputs": [
        {
          "name": "stdout",
          "output_type": "stream",
          "text": [
            "0 1 4 9 16 25 "
          ]
        }
      ],
      "source": [
        "# create instance of array with size 6\n",
        "arr = Array(6)\n",
        "\n",
        "# set array\n",
        "for i in range (arr.size):\n",
        "    arr.memory[i] = i ** 2\n",
        "\n",
        "# get array\n",
        "for i in range (arr.size):\n",
        "    print(arr.memory[i], end = ' ')\n",
        "\n",
        "# to delete all the values from the memory\n",
        "del arr.memory\n",
        "\n",
        "# not support del arr.memory[0]\n"
      ]
    },
    {
      "cell_type": "markdown",
      "id": "89b3f75e",
      "metadata": {
        "id": "89b3f75e"
      },
      "source": [
        "## Add special methods\n",
        "\n",
        "**These special methods give our class many valuable features** "
      ]
    },
    {
      "cell_type": "code",
      "execution_count": null,
      "id": "6b25d49e",
      "metadata": {
        "id": "6b25d49e"
      },
      "outputs": [],
      "source": [
        "import ctypes\n",
        "\n",
        "\n",
        "class Array:\n",
        "    def __init__(self, size):\n",
        "        array_data_type = ctypes.py_object * size\n",
        "        self.size = size\n",
        "        self.memory = array_data_type()\n",
        "        for i in range(size):\n",
        "            self.memory[i] = None\n",
        "    \n",
        "    # len(arr)\n",
        "    def __len__(self):\n",
        "        return self.size\n",
        "    \n",
        "    # arr[i]\n",
        "    def __getitem__(self, idx):\n",
        "        # Is valid idx?\n",
        "        return self.memory[idx] \n",
        "    \n",
        "    # arr[i] = x\n",
        "    def __setitem__(self, idx, value):\n",
        "        self.memory[idx] = value\n",
        "\n",
        "    def __repr__(self):\n",
        "        result = ''\n",
        "        for i in range(self.size):\n",
        "            result += str(self.memory[i]) + ', '\n",
        "        return result"
      ]
    },
    {
      "cell_type": "code",
      "execution_count": null,
      "id": "c92a7f20",
      "metadata": {
        "id": "c92a7f20",
        "outputId": "47fe6d79-ffcd-4296-e115-e97ab42d4810"
      },
      "outputs": [
        {
          "name": "stdout",
          "output_type": "stream",
          "text": [
            "1, 2, 3, 4, 5, 6, \n",
            "1, 2, 3, 4, 5, 6, \n"
          ]
        }
      ],
      "source": [
        "array = Array(6)\n",
        "\n",
        "for i in range(len(array)):\n",
        "    array[i] = i + 1\n",
        "\n",
        "for i in range(len(array)):\n",
        "    print(array[i], end=', ')\n",
        "print()\n",
        "# 1, 2, 3, 4, 5, 6,\n",
        "\n",
        "print(array)    # uses __repr__"
      ]
    },
    {
      "cell_type": "code",
      "execution_count": null,
      "id": "0cc2bc75",
      "metadata": {
        "id": "0cc2bc75",
        "outputId": "c910dce6-99df-4edf-a231-ecd6762ea36c"
      },
      "outputs": [
        {
          "data": {
            "text/plain": [
              "'1, 2, 3, 4, 5, 6, '"
            ]
          },
          "execution_count": 5,
          "metadata": {},
          "output_type": "execute_result"
        }
      ],
      "source": [
        "repr(array)"
      ]
    },
    {
      "cell_type": "markdown",
      "id": "4977864c",
      "metadata": {
        "id": "4977864c"
      },
      "source": [
        "## appending operation  (Trival solution)\n",
        "\n",
        "**Make memory dynamic**"
      ]
    },
    {
      "cell_type": "code",
      "execution_count": null,
      "id": "38a97c28",
      "metadata": {
        "id": "38a97c28"
      },
      "outputs": [],
      "source": [
        "class Array:\n",
        "    \n",
        "    def __init__(self, size):\n",
        "        # FIXED size array from C language\n",
        "        array_data_type = ctypes.py_object * size\n",
        "        self.size = size\n",
        "        self.memory = array_data_type()\n",
        "        # initialize the array with None \n",
        "        for i in range(size):\n",
        "            self.memory[i] = None\n",
        "            \n",
        "    def append(self, item):\n",
        "        \n",
        "        self.size +=  1\n",
        "        array_data_type = ctypes.py_object * self.size \n",
        "        new_memory = array_data_type()\n",
        "        \n",
        "        for i in range(self.size - 1):\n",
        "            new_memory[i] = self.memory[i]\n",
        "\n",
        "        new_memory[self.size - 1]  = item\n",
        "        \n",
        "        del self.memory\n",
        "        self.memory = new_memory\n",
        "        "
      ]
    },
    {
      "cell_type": "code",
      "execution_count": null,
      "id": "c68d2993",
      "metadata": {
        "id": "c68d2993"
      },
      "outputs": [],
      "source": [
        "# create instance of array with size 6\n",
        "arr = Array(6)\n",
        "\n",
        "# set array\n",
        "for i in range (arr.size):\n",
        "    arr.memory[i] = i ** 2\n"
      ]
    },
    {
      "cell_type": "code",
      "execution_count": null,
      "id": "1f7bd16a",
      "metadata": {
        "scrolled": true,
        "id": "1f7bd16a",
        "outputId": "3f1bd735-d248-4393-99ec-df55091ae5e5"
      },
      "outputs": [
        {
          "name": "stdout",
          "output_type": "stream",
          "text": [
            "0 1 4 9 16 25 "
          ]
        }
      ],
      "source": [
        "# get array\n",
        "for i in range (arr.size):\n",
        "    print(arr.memory[i], end = ' ')\n"
      ]
    },
    {
      "cell_type": "code",
      "execution_count": null,
      "id": "9d470a52",
      "metadata": {
        "id": "9d470a52"
      },
      "outputs": [],
      "source": [
        "arr.append(5)"
      ]
    },
    {
      "cell_type": "code",
      "execution_count": null,
      "id": "cbdb016d",
      "metadata": {
        "id": "cbdb016d",
        "outputId": "926bff0f-9f97-4cd6-f9ed-32701df3eb90"
      },
      "outputs": [
        {
          "name": "stdout",
          "output_type": "stream",
          "text": [
            "0 1 4 9 16 25 5 "
          ]
        }
      ],
      "source": [
        "# get array\n",
        "for i in range (arr.size):\n",
        "    print(arr.memory[i], end = ' ')\n"
      ]
    },
    {
      "cell_type": "markdown",
      "id": "e358236b",
      "metadata": {
        "id": "e358236b"
      },
      "source": [
        "**The complexity of appending operation here is quadtritic + const, So the code is very slow when we try to append a many numbers (like 10^5)**"
      ]
    },
    {
      "cell_type": "code",
      "execution_count": null,
      "id": "67cf3868",
      "metadata": {
        "id": "67cf3868",
        "outputId": "8ee759f3-6fd7-42da-fdcf-324d4bb96910"
      },
      "outputs": [
        {
          "data": {
            "text/plain": [
              "12.792577028274536"
            ]
          },
          "execution_count": 11,
          "metadata": {},
          "output_type": "execute_result"
        }
      ],
      "source": [
        "import time\n",
        "\n",
        "t= time.time()\n",
        "for i in range(10**4):\n",
        "    arr.append(i)\n",
        "\n",
        "time.time() -t "
      ]
    },
    {
      "cell_type": "markdown",
      "id": "96044974",
      "metadata": {
        "id": "96044974"
      },
      "source": [
        "**In every append step, we move the old array to new one with append the new item. that make the code very slow** \n",
        "\n",
        "**Here we will use capacity trick, so we will take double the memory we need and move the old data to a space with double of the old size if when we use the old memory.** "
      ]
    },
    {
      "cell_type": "markdown",
      "id": "a0923f96",
      "metadata": {
        "id": "a0923f96"
      },
      "source": [
        "## appending operation (more optimised solution)"
      ]
    },
    {
      "cell_type": "code",
      "execution_count": null,
      "id": "d8ab387e",
      "metadata": {
        "id": "d8ab387e"
      },
      "outputs": [],
      "source": [
        "class Array:\n",
        "    \n",
        "    def __init__(self, size):\n",
        "        # FIXED size array from C language\n",
        "        self.size = size\n",
        "        self._capacity = max(32, self.size * 2)\n",
        "        array_data_type = ctypes.py_object * self._capacity\n",
        "        self.memory = array_data_type()\n",
        "        # initialize the array with None \n",
        "        for i in range(self._capacity):\n",
        "            self.memory[i] = None\n",
        "            \n",
        "    # we use this method when we use all the memory\n",
        "    def expand_capacity(self):\n",
        "        self._capacity *= 2\n",
        "        print(f\"expanding capacity to {self._capacity}\")\n",
        "        array_data_type = ctypes.py_object * self._capacity\n",
        "        new_memory = array_data_type()\n",
        "        for i in range(self.size):\n",
        "            new_memory[i] = self.memory[i]\n",
        "            \n",
        "        del self.memory\n",
        "        self.memory = new_memory\n",
        "\n",
        "            \n",
        "    def append(self, item):\n",
        "        \n",
        "        if self.size == self._capacity:\n",
        "            self.expand_capacity()\n",
        "            \n",
        "        new_memory[self.size]  = item\n",
        "        \n",
        "        self.size +=  1\n",
        "                "
      ]
    },
    {
      "cell_type": "code",
      "execution_count": null,
      "id": "bff9f063",
      "metadata": {
        "id": "bff9f063"
      },
      "outputs": [],
      "source": [
        "# create instance of array with size 6\n",
        "arr = Array(6)\n",
        "\n",
        "# set array\n",
        "for i in range(arr.size):\n",
        "    arr.memory[i] = i ** 2\n"
      ]
    },
    {
      "cell_type": "code",
      "execution_count": null,
      "id": "485c05ae",
      "metadata": {
        "id": "485c05ae",
        "outputId": "a408b789-fe1f-4c5e-8cd9-53c92b06a7fc"
      },
      "outputs": [
        {
          "name": "stdout",
          "output_type": "stream",
          "text": [
            "0 1 4 9 16 25 "
          ]
        }
      ],
      "source": [
        "# get array\n",
        "for i in range (arr.size):\n",
        "    print(arr.memory[i], end = ' ')\n"
      ]
    },
    {
      "cell_type": "markdown",
      "id": "0b93c1e7",
      "metadata": {
        "id": "0b93c1e7"
      },
      "source": [
        "### add the sepcial method to our array class"
      ]
    },
    {
      "cell_type": "code",
      "execution_count": null,
      "id": "8e9a004b",
      "metadata": {
        "id": "8e9a004b"
      },
      "outputs": [],
      "source": [
        "import ctypes\n",
        "\n",
        "class Array:\n",
        "    \n",
        "    def __init__(self, size):\n",
        "        # FIXED size array from C language\n",
        "        self.size = size\n",
        "        self._capacity = max(32, self.size * 2)\n",
        "        array_data_type = ctypes.py_object * self._capacity\n",
        "        self.memory = array_data_type()\n",
        "        # initialize the array with None \n",
        "        for i in range(self._capacity):\n",
        "            self.memory[i] = None\n",
        "            \n",
        "    # we use this method when we use all the memory\n",
        "    def expand_capacity(self):\n",
        "        self._capacity *= 2\n",
        "        print(f\"expanding capacity to {self._capacity}\")\n",
        "        array_data_type = ctypes.py_object * self._capacity\n",
        "        new_memory = array_data_type()\n",
        "        for i in range(self.size):\n",
        "            new_memory[i] = self.memory[i]\n",
        "            \n",
        "        del self.memory\n",
        "        self.memory = new_memory\n",
        "\n",
        "            \n",
        "    def append(self, item):\n",
        "        \n",
        "        if self.size == self._capacity:\n",
        "            self.expand_capacity()\n",
        "            \n",
        "        self.memory[self.size]  = item\n",
        "        \n",
        "        self.size +=  1\n",
        "               \n",
        "    # len(arr)\n",
        "    def __len__(self):\n",
        "        return self.size\n",
        "    \n",
        "    # arr[i]\n",
        "    def __getitem__(self, idx):\n",
        "        # Is valid idx?\n",
        "        return self.memory[idx] \n",
        "    \n",
        "    # arr[i] = x\n",
        "    def __setitem__(self, idx, value):\n",
        "        self.memory[idx] = value\n",
        "\n",
        "    def __repr__(self):\n",
        "        result = ''\n",
        "        for i in range(self.size):\n",
        "            result += str(self.memory[i]) + ', '\n",
        "        return result"
      ]
    },
    {
      "cell_type": "code",
      "execution_count": null,
      "id": "464ad68d",
      "metadata": {
        "id": "464ad68d"
      },
      "outputs": [],
      "source": [
        "# create instance of array with size 6\n",
        "arr = Array(6)\n",
        "\n",
        "# set array\n",
        "for i in range(arr.size):\n",
        "    arr[i] = i ** 2\n"
      ]
    },
    {
      "cell_type": "code",
      "execution_count": null,
      "id": "087a0c42",
      "metadata": {
        "id": "087a0c42",
        "outputId": "74c93a46-c11c-4cc2-ec28-3f4aa29e9881"
      },
      "outputs": [
        {
          "name": "stdout",
          "output_type": "stream",
          "text": [
            "0 1 4 9 16 25 "
          ]
        }
      ],
      "source": [
        "# get array\n",
        "for i in range (arr.size):\n",
        "    print(arr[i], end = ' ')\n"
      ]
    },
    {
      "cell_type": "code",
      "execution_count": null,
      "id": "7566dceb",
      "metadata": {
        "id": "7566dceb"
      },
      "outputs": [],
      "source": [
        "arr.append('item1')\n",
        "arr.append('item2')"
      ]
    },
    {
      "cell_type": "code",
      "execution_count": null,
      "id": "3f09ecde",
      "metadata": {
        "id": "3f09ecde",
        "outputId": "db4b932b-709f-46f0-e04c-7c5286c2ac44"
      },
      "outputs": [
        {
          "name": "stdout",
          "output_type": "stream",
          "text": [
            "0 1 4 9 16 25 item1 item2 "
          ]
        }
      ],
      "source": [
        "# get array\n",
        "for i in range (arr.size):\n",
        "    print(arr[i], end = ' ')\n"
      ]
    },
    {
      "cell_type": "code",
      "execution_count": null,
      "id": "03f606f8",
      "metadata": {
        "id": "03f606f8",
        "outputId": "855d1fd4-4183-452c-f29c-8b78a50ead1e"
      },
      "outputs": [
        {
          "name": "stdout",
          "output_type": "stream",
          "text": [
            "0, 1, 4, 9, 16, 25, item1, item2, \n"
          ]
        }
      ],
      "source": [
        "# the special method __repr__ help us to do this trick \n",
        "print(arr)"
      ]
    },
    {
      "cell_type": "markdown",
      "id": "dae0922f",
      "metadata": {
        "id": "dae0922f"
      },
      "source": [
        "**Notice that the expand method is invoked when we use all the memory. We create a memory with double of the old size and move the old arr to the new one**\n",
        "\n",
        "**the expand process is quadrtic, but the append is linear**"
      ]
    },
    {
      "cell_type": "code",
      "execution_count": null,
      "id": "0daed84b",
      "metadata": {
        "id": "0daed84b",
        "outputId": "d0dff4f8-4522-4f37-ccb9-2dc4394ca051"
      },
      "outputs": [
        {
          "name": "stdout",
          "output_type": "stream",
          "text": [
            "expanding capacity to 64\n",
            "expanding capacity to 128\n",
            "expanding capacity to 256\n",
            "expanding capacity to 512\n",
            "expanding capacity to 1024\n",
            "expanding capacity to 2048\n",
            "expanding capacity to 4096\n",
            "expanding capacity to 8192\n",
            "expanding capacity to 16384\n"
          ]
        },
        {
          "data": {
            "text/plain": [
              "0.011185169219970703"
            ]
          },
          "execution_count": 21,
          "metadata": {},
          "output_type": "execute_result"
        }
      ],
      "source": [
        "import time\n",
        "\n",
        "t= time.time()\n",
        "for i in range(10**4):\n",
        "    arr.append(i)\n",
        "\n",
        "time.time() -t "
      ]
    },
    {
      "cell_type": "markdown",
      "id": "7d0a98ac",
      "metadata": {
        "id": "7d0a98ac"
      },
      "source": [
        "**We can see that the optimized solution is faster than the trival one by factor ~= (21.3 / 0.0244)  ~= 873**"
      ]
    },
    {
      "cell_type": "markdown",
      "id": "8ff6d183",
      "metadata": {
        "id": "8ff6d183"
      },
      "source": [
        "## Insertion Operation"
      ]
    },
    {
      "cell_type": "code",
      "execution_count": null,
      "id": "5091303b",
      "metadata": {
        "id": "5091303b"
      },
      "outputs": [],
      "source": [
        "import ctypes\n",
        "\n",
        "class Array:\n",
        "    \n",
        "    def __init__(self, size):\n",
        "        # FIXED size array from C language\n",
        "        self.size = size\n",
        "        self._capacity = max(32, self.size * 2)\n",
        "        array_data_type = ctypes.py_object * self._capacity\n",
        "        self.memory = array_data_type()\n",
        "        # initialize the array with None \n",
        "        for i in range(self._capacity):\n",
        "            self.memory[i] = None\n",
        "            \n",
        "    # we use this method when we use all the memory\n",
        "    def expand_capacity(self):\n",
        "        self._capacity *= 2\n",
        "        print(f\"expanding capacity to {self._capacity}\")\n",
        "        array_data_type = ctypes.py_object * self._capacity\n",
        "        new_memory = array_data_type()\n",
        "        for i in range(self.size):\n",
        "            new_memory[i] = self.memory[i]\n",
        "            \n",
        "        del self.memory\n",
        "        self.memory = new_memory\n",
        "\n",
        "            \n",
        "    def append(self, item):\n",
        "        \n",
        "        if self.size == self._capacity:\n",
        "            self.expand_capacity()\n",
        "            \n",
        "        self.memory[self.size]  = item\n",
        "        \n",
        "        self.size +=  1\n",
        "\n",
        "        \n",
        "    def insert(self, idx, item):\n",
        "        if idx >= self.size:\n",
        "            self.append(item)\n",
        "            return\n",
        "        if self.size == self._capacity:\n",
        "            self.expand_capacity()\n",
        "        \n",
        "        \n",
        "        for i in range(self.size, idx -1, -1):\n",
        "            self.memory[i] = self.memory[i-1]\n",
        "            \n",
        "        self.memory[idx] = item\n",
        "        self.size += 1\n",
        "        \n",
        "    # len(arr)\n",
        "    def __len__(self):\n",
        "        return self.size\n",
        "    \n",
        "    # arr[i]\n",
        "    def __getitem__(self, idx):\n",
        "        # Is valid idx?\n",
        "        return self.memory[idx] \n",
        "    \n",
        "    # arr[i] = x\n",
        "    def __setitem__(self, idx, value):\n",
        "        self.memory[idx] = value\n",
        "\n",
        "    def __repr__(self):\n",
        "        result = ''\n",
        "        for i in range(self.size):\n",
        "            result += str(self.memory[i]) + ', '\n",
        "        return result"
      ]
    },
    {
      "cell_type": "code",
      "execution_count": null,
      "id": "ea8a400b",
      "metadata": {
        "id": "ea8a400b"
      },
      "outputs": [],
      "source": [
        "# create instance of array with size 6\n",
        "arr = Array(6)\n",
        "\n",
        "# set array\n",
        "for i in range(arr.size):\n",
        "    arr[i] = i ** 2\n"
      ]
    },
    {
      "cell_type": "code",
      "execution_count": null,
      "id": "423be8f1",
      "metadata": {
        "id": "423be8f1",
        "outputId": "dd964df4-7f81-424c-ee70-07172a08e6b8"
      },
      "outputs": [
        {
          "data": {
            "text/plain": [
              "0, 1, 4, 9, 16, 25, "
            ]
          },
          "execution_count": 24,
          "metadata": {},
          "output_type": "execute_result"
        }
      ],
      "source": [
        "arr"
      ]
    },
    {
      "cell_type": "code",
      "execution_count": null,
      "id": "f136fc88",
      "metadata": {
        "id": "f136fc88"
      },
      "outputs": [],
      "source": [
        "arr.insert(3, 30)"
      ]
    },
    {
      "cell_type": "code",
      "execution_count": null,
      "id": "e2b7cf35",
      "metadata": {
        "id": "e2b7cf35",
        "outputId": "428979e3-0c79-4525-c3a3-f04d70cbcb9a"
      },
      "outputs": [
        {
          "data": {
            "text/plain": [
              "0, 1, 4, 30, 9, 16, 25, "
            ]
          },
          "execution_count": 26,
          "metadata": {},
          "output_type": "execute_result"
        }
      ],
      "source": [
        "arr"
      ]
    },
    {
      "cell_type": "code",
      "execution_count": null,
      "id": "b34e08b4",
      "metadata": {
        "id": "b34e08b4"
      },
      "outputs": [],
      "source": [
        "arr.insert(0, 20)\n",
        "arr.insert(2, 333)"
      ]
    },
    {
      "cell_type": "code",
      "execution_count": null,
      "id": "8f8e76ec",
      "metadata": {
        "id": "8f8e76ec",
        "outputId": "49cb73e0-6eeb-4f68-f2cd-2c7778d1d0fb"
      },
      "outputs": [
        {
          "data": {
            "text/plain": [
              "20, 0, 333, 1, 4, 30, 9, 16, 25, "
            ]
          },
          "execution_count": 28,
          "metadata": {},
          "output_type": "execute_result"
        }
      ],
      "source": [
        "arr"
      ]
    },
    {
      "cell_type": "code",
      "execution_count": null,
      "id": "bc6da266",
      "metadata": {
        "id": "bc6da266",
        "outputId": "6780b7a7-4d94-4f23-b336-fbb1be8eaef6"
      },
      "outputs": [
        {
          "data": {
            "text/plain": [
              "20, 0, 333, 1, 4, 30, 9, 16, 25, 303, "
            ]
          },
          "execution_count": 29,
          "metadata": {},
          "output_type": "execute_result"
        }
      ],
      "source": [
        "arr.insert(13, 303)\n",
        "arr"
      ]
    },
    {
      "cell_type": "markdown",
      "id": "96e84a28",
      "metadata": {
        "id": "96e84a28"
      },
      "source": [
        "![insertion.jpg](attachment:insertion.jpg)"
      ]
    },
    {
      "cell_type": "code",
      "execution_count": null,
      "id": "9ccf5942",
      "metadata": {
        "id": "9ccf5942"
      },
      "outputs": [],
      "source": [
        ""
      ]
    },
    {
      "cell_type": "code",
      "execution_count": null,
      "id": "2a16ad7d",
      "metadata": {
        "id": "2a16ad7d"
      },
      "outputs": [],
      "source": [
        ""
      ]
    },
    {
      "cell_type": "markdown",
      "id": "16603841",
      "metadata": {
        "id": "16603841"
      },
      "source": [
        "## Abstract Data Types"
      ]
    },
    {
      "cell_type": "markdown",
      "id": "e6b2b1e0",
      "metadata": {
        "id": "e6b2b1e0"
      },
      "source": [
        "![abs%20dtype.jpg](attachment:abs%20dtype.jpg)"
      ]
    },
    {
      "cell_type": "code",
      "execution_count": null,
      "id": "f6b3e322",
      "metadata": {
        "id": "f6b3e322"
      },
      "outputs": [],
      "source": [
        ""
      ]
    },
    {
      "cell_type": "markdown",
      "id": "555ba0e8",
      "metadata": {
        "id": "555ba0e8"
      },
      "source": [
        "# Homework"
      ]
    },
    {
      "cell_type": "markdown",
      "id": "1df93874",
      "metadata": {
        "id": "1df93874"
      },
      "source": [
        "## Problem 1: Negative Indexing\n",
        "\n",
        "---\n",
        "\n",
        "## Problem 2: Right rotation\n",
        "\n",
        "---\n",
        "\n",
        "## Problem 3: Left rotation"
      ]
    },
    {
      "cell_type": "code",
      "execution_count": null,
      "id": "44a1d3a6",
      "metadata": {
        "id": "44a1d3a6"
      },
      "outputs": [],
      "source": [
        "import ctypes\n",
        "\n",
        "class Array:\n",
        "    \n",
        "    def __init__(self, size):\n",
        "        # FIXED size array from C language\n",
        "        self.size = size\n",
        "        self._capacity = max(32, self.size * 2)\n",
        "        array_data_type = ctypes.py_object * self._capacity\n",
        "        self.memory = array_data_type()\n",
        "        # initialize the array with None \n",
        "        for i in range(self._capacity):\n",
        "            self.memory[i] = None\n",
        "            \n",
        "    # we use this method when we use all the memory\n",
        "    def expand_capacity(self):\n",
        "        self._capacity *= 2\n",
        "        print(f\"expanding capacity to {self._capacity}\")\n",
        "        array_data_type = ctypes.py_object * self._capacity\n",
        "        new_memory = array_data_type()\n",
        "        for i in range(self.size):\n",
        "            new_memory[i] = self.memory[i]\n",
        "            \n",
        "        del self.memory\n",
        "        self.memory = new_memory\n",
        "\n",
        "            \n",
        "    def append(self, item):\n",
        "        \n",
        "        if self.size == self._capacity:\n",
        "            self.expand_capacity()\n",
        "            \n",
        "        self.memory[self.size]  = item\n",
        "        \n",
        "        self.size +=  1\n",
        "\n",
        "        \n",
        "    def insert(self, idx, item):\n",
        "        \n",
        "        if idx >= self.size:\n",
        "            self.append(item)\n",
        "            return\n",
        "\n",
        "        if idx < -self.size:\n",
        "            idx = -self.size\n",
        "\n",
        "        if idx < 0:\n",
        "            idx += self.size\n",
        "\n",
        "\n",
        "        if self.size == self._capacity:\n",
        "            self.expand_capacity()\n",
        "        \n",
        "        \n",
        "        for i in range(self.size, idx -1, -1):\n",
        "            self.memory[i] = self.memory[i-1]\n",
        "            \n",
        "        self.memory[idx] = item\n",
        "        self.size += 1\n",
        "        \n",
        "        \n",
        "    def right_rotate(self):\n",
        "        self.insert(0,self.memory[self.size -1])\n",
        "        self.memory[self.size -1] = None\n",
        "        self.size -= 1\n",
        "        \n",
        "        \n",
        "    def left_rotate(self):\n",
        "        fist_elem  = self.memory[0]\n",
        "        \n",
        "        for i in range(self.size):\n",
        "            self.memory[i] = self.memory[i +1] \n",
        "            \n",
        "        self.memory[self.size -1] = fist_elem\n",
        "        \n",
        "    # len(arr)\n",
        "    def __len__(self):\n",
        "        return self.size\n",
        "    \n",
        "    # arr[i]\n",
        "    def __getitem__(self, idx):\n",
        "        # Is valid idx?\n",
        "        return self.memory[idx] \n",
        "    \n",
        "    # arr[i] = x\n",
        "    def __setitem__(self, idx, value):\n",
        "        self.memory[idx] = value\n",
        "\n",
        "    def __repr__(self):\n",
        "        result = ''\n",
        "        for i in range(self.size):\n",
        "            result += str(self.memory[i]) + ', '\n",
        "        return result"
      ]
    },
    {
      "cell_type": "code",
      "execution_count": null,
      "id": "747cd0af",
      "metadata": {
        "id": "747cd0af",
        "outputId": "4c214d41-4ee9-4765-ed3e-eb6c9fe44096"
      },
      "outputs": [
        {
          "data": {
            "text/plain": [
              "1, 2, 3, 4, "
            ]
          },
          "execution_count": 31,
          "metadata": {},
          "output_type": "execute_result"
        }
      ],
      "source": [
        "# create instance of array with size 6\n",
        "arr = Array(4)\n",
        "\n",
        "# set array\n",
        "for i in range(arr.size):\n",
        "    arr[i] = i +1\n",
        "\n",
        "arr"
      ]
    },
    {
      "cell_type": "code",
      "execution_count": null,
      "id": "97cfb755",
      "metadata": {
        "id": "97cfb755",
        "outputId": "5aabc122-b9f5-418f-a7f4-a5ea5daf723e"
      },
      "outputs": [
        {
          "data": {
            "text/plain": [
              "1, 2, 3, -10, 4, "
            ]
          },
          "execution_count": 32,
          "metadata": {},
          "output_type": "execute_result"
        }
      ],
      "source": [
        "arr.insert(-1, -10)\n",
        "arr"
      ]
    },
    {
      "cell_type": "code",
      "execution_count": null,
      "id": "1616198e",
      "metadata": {
        "id": "1616198e",
        "outputId": "62016b14-e2d4-4f9f-d294-25b2d651621a"
      },
      "outputs": [
        {
          "data": {
            "text/plain": [
              "1, 2, 3, -20, -10, 4, "
            ]
          },
          "execution_count": 33,
          "metadata": {},
          "output_type": "execute_result"
        }
      ],
      "source": [
        "arr.insert(-2, -20)\n",
        "arr"
      ]
    },
    {
      "cell_type": "code",
      "execution_count": null,
      "id": "e4d5a115",
      "metadata": {
        "id": "e4d5a115",
        "outputId": "d00c6372-b89e-4ff4-e6ea-bf8500cae367"
      },
      "outputs": [
        {
          "data": {
            "text/plain": [
              "1, 2, 3, -30, -20, -10, 4, "
            ]
          },
          "execution_count": 34,
          "metadata": {},
          "output_type": "execute_result"
        }
      ],
      "source": [
        "arr.insert(-3, -30)\n",
        "arr"
      ]
    },
    {
      "cell_type": "code",
      "execution_count": null,
      "id": "c6b19483",
      "metadata": {
        "id": "c6b19483",
        "outputId": "ad521c44-195a-4c23-d634-3c1a552490d4"
      },
      "outputs": [
        {
          "data": {
            "text/plain": [
              "0, 1, 2, 3, -30, -20, -10, 4, "
            ]
          },
          "execution_count": 35,
          "metadata": {},
          "output_type": "execute_result"
        }
      ],
      "source": [
        "arr.insert(-30, 0)\n",
        "arr"
      ]
    },
    {
      "cell_type": "code",
      "execution_count": null,
      "id": "d9e95f74",
      "metadata": {
        "id": "d9e95f74"
      },
      "outputs": [],
      "source": [
        "def test_insert():\n",
        "    array = Array(0)\n",
        "    array.append(1)\n",
        "    array.append(2)\n",
        "    array.append(3)\n",
        "    array.append(4)\n",
        "    # 1, 2, 3, 4\n",
        "    array.insert(-1, -10)\n",
        "    print(array)  # 1, 2, 3, -10, 4,\n",
        "\n",
        "    array.insert(-2, -20)\n",
        "    print(array)  # 1, 2, 3, -20, -10, 4,\n",
        "\n",
        "    array.insert(-3, -30)\n",
        "    print(array)  # 1, 2, 3, -30, -20, -10, 4,\n",
        "\n",
        "    array.insert(-4, -40)\n",
        "    print(array)  # 1, 2, 3, -40, -30, -20, -10, 4,\n",
        "\n",
        "    array.insert(-5, -50)\n",
        "    print(array)  # 1, 2, 3, -50, -40, -30, -20, -10, 4,\n",
        "\n",
        "    array.insert(8, 80)\n",
        "    print(array)  # 1, 2, 3, -50, -40, -30, -20, -10, 80, 4,\n",
        "\n",
        "    array.insert(20, 90)\n",
        "    print(array)  # 1, 2, 3, -50, -40, -30, -20, -10, 80, 4, 90,\n",
        "\n",
        "\n",
        "def test_right_rotate():\n",
        "    array = Array(0)\n",
        "\n",
        "    array.right_rotate()\n",
        "    print(array)\n",
        "\n",
        "    array = Array(0)\n",
        "    array.append(0)\n",
        "    array.append(1)\n",
        "    array.append(2)\n",
        "    array.append(3)\n",
        "    array.append(4)\n",
        "\n",
        "    array.right_rotate()\n",
        "    print(array)\n",
        "    # 4, 0, 1, 2, 3,\n",
        "\n",
        "    array.right_rotate()\n",
        "    print(array)\n",
        "    # 3, 4, 0, 1, 2,\n",
        "\n",
        "    \n",
        "def test_left_rotate():\n",
        "    array = Array(0)\n",
        "\n",
        "    array.right_rotate()\n",
        "    print(array)\n",
        "\n",
        "    array = Array(0)\n",
        "    array.append(0)\n",
        "    array.append(1)\n",
        "    array.append(2)\n",
        "    array.append(3)\n",
        "    array.append(4)\n",
        "\n",
        "    array.left_rotate()\n",
        "    print(array)\n",
        "    # 1, 2, 3, 4, 0,\n",
        "\n",
        "    array.left_rotate()\n",
        "    print(array)\n",
        "    # 2, 3, 4, 0, 1,\n",
        "    \n"
      ]
    },
    {
      "cell_type": "code",
      "execution_count": null,
      "id": "3ad99d19",
      "metadata": {
        "id": "3ad99d19",
        "outputId": "917635ac-496a-41ad-e7f8-a013f1753a56"
      },
      "outputs": [
        {
          "name": "stdout",
          "output_type": "stream",
          "text": [
            "\n",
            "4, 0, 1, 2, 3, \n",
            "3, 4, 0, 1, 2, \n"
          ]
        }
      ],
      "source": [
        "    \n",
        "\n",
        "    "
      ]
    },
    {
      "cell_type": "code",
      "execution_count": null,
      "id": "6cfa7ec2",
      "metadata": {
        "id": "6cfa7ec2",
        "outputId": "7e992dd3-71d8-4253-8e72-2a90ee09d3dc"
      },
      "outputs": [
        {
          "name": "stdout",
          "output_type": "stream",
          "text": [
            "\n",
            "***************** test_insert *****************\n",
            "1, 2, 3, -10, 4, \n",
            "1, 2, 3, -20, -10, 4, \n",
            "1, 2, 3, -30, -20, -10, 4, \n",
            "1, 2, 3, -40, -30, -20, -10, 4, \n",
            "1, 2, 3, -50, -40, -30, -20, -10, 4, \n",
            "1, 2, 3, -50, -40, -30, -20, -10, 80, 4, \n",
            "1, 2, 3, -50, -40, -30, -20, -10, 80, 4, 90, \n",
            "\n",
            "***************** test_right_rotate *****************\n",
            "\n",
            "4, 0, 1, 2, 3, \n",
            "3, 4, 0, 1, 2, \n",
            "\n",
            "***************** test_left_rotate *****************\n",
            "\n",
            "1, 2, 3, 4, 0, \n",
            "2, 3, 4, 0, 1, \n"
          ]
        }
      ],
      "source": [
        "print(\"\\n***************** test_insert *****************\")\n",
        "test_insert()\n",
        "\n",
        "print(\"\\n***************** test_right_rotate *****************\")\n",
        "test_right_rotate()\n",
        "\n",
        "print(\"\\n***************** test_left_rotate *****************\")\n",
        "test_left_rotate()"
      ]
    },
    {
      "cell_type": "markdown",
      "id": "f989b10e",
      "metadata": {
        "id": "f989b10e"
      },
      "source": [
        "## Problem  4: Right Rotation with step\n",
        "\n",
        "**pseudo code:**\n",
        "\n",
        "1.  if steps >= self.size:\n",
        "\n",
        "    steps%= self.size          # after self.size steps array become the same\n",
        "    \n",
        "\n",
        "2. take num of steps elements from the end if the array and put them at the begining of the array\n",
        "\n",
        "\n",
        "---\n",
        "\n",
        "## Problem 5: Pop a position\n",
        "\n",
        "\n",
        "**pseudo code:**\n",
        "\n",
        "1.  get the element array[index]\n",
        "\n",
        "\n",
        "2. Move every element after the index to the elemnt before it\n",
        "    \n",
        "\n",
        "3. return array[index]\n",
        "\n",
        "---\n",
        "\n",
        "## Problem 6: index_transposition"
      ]
    },
    {
      "cell_type": "code",
      "execution_count": null,
      "id": "b019767d",
      "metadata": {
        "id": "b019767d"
      },
      "outputs": [],
      "source": [
        "import ctypes\n",
        "\n",
        "class Array:\n",
        "    \n",
        "    def __init__(self, size, initial_val = None):\n",
        "        # FIXED size array from C language\n",
        "        self.size = size\n",
        "        self._capacity = max(32, self.size * 2)\n",
        "        array_data_type = ctypes.py_object * self._capacity\n",
        "        self.memory = array_data_type()\n",
        "        # initialize the array with None \n",
        "        for i in range(self._capacity):\n",
        "            self.memory[i] = initial_val\n",
        "            \n",
        "    # we use this method when we use all the memory\n",
        "    def expand_capacity(self):\n",
        "        self._capacity *= 2\n",
        "        print(f\"expanding capacity to {self._capacity}\")\n",
        "        array_data_type = ctypes.py_object * self._capacity\n",
        "        new_memory = array_data_type()\n",
        "        for i in range(self.size):\n",
        "            new_memory[i] = self.memory[i]\n",
        "            \n",
        "        del self.memory\n",
        "        self.memory = new_memory\n",
        "\n",
        "            \n",
        "    def append(self, item):\n",
        "        \n",
        "        if self.size == self._capacity:\n",
        "            self.expand_capacity()\n",
        "            \n",
        "        self.memory[self.size]  = item\n",
        "        \n",
        "        self.size +=  1\n",
        "\n",
        "        \n",
        "    def insert(self, idx, item):\n",
        "        \n",
        "        if idx >= self.size:\n",
        "            self.append(item)\n",
        "            return\n",
        "\n",
        "        if idx < -self.size:\n",
        "            idx = -self.size\n",
        "\n",
        "        if idx < 0:\n",
        "            idx += self.size\n",
        "\n",
        "\n",
        "        if self.size == self._capacity:\n",
        "            self.expand_capacity()\n",
        "        \n",
        "        \n",
        "        for i in range(self.size, idx -1, -1):\n",
        "            self.memory[i] = self.memory[i-1]\n",
        "            \n",
        "        self.memory[idx] = item\n",
        "        self.size += 1\n",
        "        \n",
        "        \n",
        "    def right_rotate(self):\n",
        "        self.insert(0,self.memory[self.size -1])\n",
        "        self.memory[self.size -1] = None\n",
        "        self.size -= 1\n",
        "        \n",
        "        \n",
        "    def left_rotate(self):\n",
        "        fist_elem  = self.memory[0]\n",
        "        \n",
        "        for i in range(self.size):\n",
        "            self.memory[i] = self.memory[i +1] \n",
        "            \n",
        "        self.memory[self.size -1] = fist_elem\n",
        "        \n",
        "        \n",
        "    def right_rotate_steps(self, s):\n",
        "        \n",
        "        # array return to its origin if we rotate it self.size time\n",
        "        if s >= self.size:\n",
        "            s %= self.size\n",
        "        \n",
        "        if s == 0:\n",
        "            return\n",
        "        \n",
        "        array_data_type = ctypes.py_object * (self.size - s)\n",
        "        new_memory = array_data_type()\n",
        "\n",
        "        # save the begining of the array so we move it later\n",
        "        for i in range(self.size - s ):\n",
        "            new_memory[i] = self.memory[i]\n",
        "            \n",
        "        # move s num of the array from the end to begining with rotation poistion\n",
        "        for i in range(s ):\n",
        "            self.memory[i] = self.memory[self.size - s + i]\n",
        "        \n",
        "        # write the values of the begining of the arr again\n",
        "        for i in range(self.size - s ):\n",
        "            self.memory[s+i] = new_memory[ i]\n",
        "            \n",
        "    def right_rotate_stepsX(self, times):\n",
        "        times %= self.size\n",
        "        for step in range(times):\n",
        "            self.right_rotate()\n",
        "\n",
        "        \n",
        "    def pop(self, idx):\n",
        "        assert idx >= -self.size and idx < self.size\n",
        "        \n",
        "        if idx < 0:\n",
        "            idx += self.size\n",
        "\n",
        "        element = self.memory[idx]\n",
        "        \n",
        "        for i in range(idx, self.size -1):\n",
        "            self.memory[i] = self.memory[i +1]\n",
        "        self.size -= 1\n",
        "        return element\n",
        "    \n",
        "    def index_transposition(self, value):\n",
        "        for idx in range(self.size):\n",
        "            if self.memory[idx] == value:\n",
        "                if idx == 0:\n",
        "                    return 0\n",
        "                # Swap the 2 elements\n",
        "                self.memory[idx], self.memory[idx - 1] = self.memory[idx - 1], self.memory[idx]\n",
        "                return idx - 1\n",
        "        return -1\n",
        "\n",
        "    # len(arr)\n",
        "    def __len__(self):\n",
        "        return self.size\n",
        "    \n",
        "    # arr[i]\n",
        "    def __getitem__(self, idx):\n",
        "        # Is valid idx?\n",
        "        return self.memory[idx] \n",
        "    \n",
        "    # arr[i] = x\n",
        "    def __setitem__(self, idx, value):\n",
        "        self.memory[idx] = value\n",
        "\n",
        "    def __repr__(self):\n",
        "        result = ''\n",
        "        for i in range(self.size):\n",
        "            result += str(self.memory[i]) + ', '\n",
        "        return result"
      ]
    },
    {
      "cell_type": "markdown",
      "id": "4973a07b",
      "metadata": {
        "id": "4973a07b"
      },
      "source": [
        "**Here is a comparsion between My solution \"right_rotate_steps\" and the other solution**\n",
        "\n",
        "**You can see that the first one is much more optimised especially when we work with very long arrays**"
      ]
    },
    {
      "cell_type": "code",
      "execution_count": null,
      "id": "652085e1",
      "metadata": {
        "id": "652085e1",
        "outputId": "a4770ad2-1148-49d6-c75c-d5cb310f5552"
      },
      "outputs": [
        {
          "data": {
            "text/plain": [
              "0.027707338333129883"
            ]
          },
          "execution_count": 31,
          "metadata": {},
          "output_type": "execute_result"
        }
      ],
      "source": [
        "import time\n",
        "\n",
        "t = time.time()\n",
        "# create instance of array with size 6\n",
        "array = Array(10**4)\n",
        "\n",
        "# set array\n",
        "for i in range(array.size):\n",
        "    array[i] = i +1\n",
        "\n",
        "\n",
        "    \n",
        "array.right_rotate_steps(123456789)\n",
        "time.time() - t\n"
      ]
    },
    {
      "cell_type": "code",
      "execution_count": null,
      "id": "dc39441c",
      "metadata": {
        "id": "dc39441c",
        "outputId": "d605e343-58ad-4dc8-f2e7-7c0e4da38636"
      },
      "outputs": [
        {
          "data": {
            "text/plain": [
              "19.10546374320984"
            ]
          },
          "execution_count": 32,
          "metadata": {},
          "output_type": "execute_result"
        }
      ],
      "source": [
        "import time\n",
        "\n",
        "t = time.time()\n",
        "# create instance of array with size 6\n",
        "array = Array(10**4)\n",
        "\n",
        "# set array\n",
        "for i in range(array.size):\n",
        "    array[i] = i +1\n",
        "\n",
        "    \n",
        "array.right_rotate_stepsX(123456789)\n",
        "time.time() - t\n"
      ]
    },
    {
      "cell_type": "code",
      "execution_count": null,
      "id": "bab9d3fa",
      "metadata": {
        "id": "bab9d3fa"
      },
      "outputs": [],
      "source": [
        "def test_right_rotate_steps():\n",
        "    array = Array(0)\n",
        "    array.append(0)\n",
        "    array.append(1)\n",
        "    array.append(2)\n",
        "    array.append(3)\n",
        "    array.append(4)\n",
        "    print(array)\n",
        "    # 0, 1, 2, 3, 4,\n",
        "\n",
        "    array.right_rotate_steps(3)\n",
        "    print(array)\n",
        "    # 2, 3, 4, 0, 1,\n",
        "    array.right_rotate_steps(7)\n",
        "    print(array)\n",
        "    # 0, 1, 2, 3, 4,\n",
        "\n",
        "    array.right_rotate_steps(123456789)\n",
        "    print(array)\n",
        "    # 1, 2, 3, 4, 0,\n",
        "    \n",
        "\n",
        "def test_index_transposition():\n",
        "\n",
        "    array = Array(0)\n",
        "    array.append(10)\n",
        "    array.append(20)\n",
        "    array.append(30)\n",
        "    array.append(40)\n",
        "    array.append(50)\n",
        "    print(array)\n",
        "    # 10, 20, 30, 40, 50,\n",
        "\n",
        "    print(array.index_transposition(10))\n",
        "    print(array)    # 0\n",
        "    # 10, 20, 30, 40, 50,\n",
        "\n",
        "    print(array.index_transposition(50))\n",
        "    print(array)    # 3\n",
        "    # 10, 20, 30, 50, 40,\n",
        "\n",
        "    print(array.index_transposition(50))\n",
        "    print(array)    # 2\n",
        "    # 10, 20, 50, 30, 40,\n",
        "\n",
        "    print(array.index_transposition(60))    # -1\n",
        "\n",
        "\n",
        "def test_pop():\n",
        "    array = Array(0)\n",
        "    array.append(10)\n",
        "    array.append(20)\n",
        "    array.append(30)\n",
        "    array.append(40)\n",
        "    print(array)\n",
        "    # 10, 20, 30, 40,\n",
        "\n",
        "    print(array.pop(0))  # 10\n",
        "    print(array)\n",
        "    # 20, 30, 40,\n",
        "\n",
        "    print(array.pop(2))  # 40\n",
        "    print(array)\n",
        "    # 20, 30,\n",
        "    array.append(60)\n",
        "    array.append(70)\n",
        "    array.append(80)\n",
        "\n",
        "    print(array.pop(-1))  # 80\n",
        "    print(array)\n",
        "    # 20, 30, 60, 70,\n",
        "\n",
        "    print(array.pop(-4))  # 20\n",
        "    print(array)\n",
        "    # 30, 60, 70,\n",
        "    # pop index out of range\n",
        "    # array.pop(-4)\n",
        "    # array.pop(3)\n"
      ]
    },
    {
      "cell_type": "code",
      "execution_count": null,
      "id": "ec01df28",
      "metadata": {
        "id": "ec01df28",
        "outputId": "b4a2a35d-a32e-4062-8f2f-1cfc5d7e3897"
      },
      "outputs": [
        {
          "name": "stdout",
          "output_type": "stream",
          "text": [
            "*************** test_right_rotate_steps ***************\n",
            "0, 1, 2, 3, 4, \n",
            "2, 3, 4, 0, 1, \n",
            "0, 1, 2, 3, 4, \n",
            "1, 2, 3, 4, 0, \n",
            "*************** test_pop ***************\n",
            "10, 20, 30, 40, \n",
            "10\n",
            "20, 30, 40, \n",
            "40\n",
            "20, 30, \n",
            "80\n",
            "20, 30, 60, 70, \n",
            "20\n",
            "30, 60, 70, \n",
            "*************** test_index_transposition ***************\n",
            "10, 20, 30, 40, 50, \n",
            "0\n",
            "10, 20, 30, 40, 50, \n",
            "3\n",
            "10, 20, 30, 50, 40, \n",
            "2\n",
            "10, 20, 50, 30, 40, \n",
            "-1\n"
          ]
        }
      ],
      "source": [
        "print(\"*************** test_right_rotate_steps ***************\")\n",
        "test_right_rotate_steps()\n",
        "\n",
        "print(\"*************** test_pop ***************\")\n",
        "test_pop()\n",
        "\n",
        "print(\"*************** test_index_transposition ***************\")\n",
        "test_index_transposition()"
      ]
    },
    {
      "cell_type": "markdown",
      "id": "d86161a7",
      "metadata": {
        "id": "d86161a7"
      },
      "source": [
        "## problem 7: Create 2d array\n",
        "\n",
        "\n",
        "* create new class called Array2D\n",
        "* use composition to create an array for the rows\n",
        "* fill the array of rows with the values (array)"
      ]
    },
    {
      "cell_type": "code",
      "execution_count": null,
      "id": "f3c36893",
      "metadata": {
        "id": "f3c36893"
      },
      "outputs": [],
      "source": [
        "class Array2D:\n",
        "    def __init__(self,rows, cols, initial_val = None):\n",
        "        self.rows = rows\n",
        "        self.cols = cols\n",
        "        self.grid = Array(rows, initial_val)            # using Composition\n",
        "        for i in range(rows):\n",
        "            self.grid[i] = Array(cols, initial_val)\n",
        "            \n",
        "    def __getitem__(self, idx):\n",
        "        r, c = idx[0], idx[1]\n",
        "        return self.grid[r][c] \n",
        "\n",
        "    def __setitem__(self, idx, value):\n",
        "        r, c = idx[0], idx[1]\n",
        "        self.grid[r][c] = value\n",
        "\n",
        "    def __repr__(self):\n",
        "        result = ''\n",
        "        for i in range(self.rows):\n",
        "            result += str(self.grid[i]) + '\\n'\n",
        "        return result\n"
      ]
    },
    {
      "cell_type": "code",
      "execution_count": null,
      "id": "f6d2292f",
      "metadata": {
        "id": "f6d2292f",
        "outputId": "1725a3f6-e45f-40d4-b4f6-c814cc906a47"
      },
      "outputs": [
        {
          "name": "stdout",
          "output_type": "stream",
          "text": [
            "-1, -1, 3, -1, \n",
            "-1, 5, -1, 7, \n",
            "\n",
            "7\n"
          ]
        }
      ],
      "source": [
        "arr2d = Array2D(2, 4, -1)\n",
        "arr2d[(0, 2)] = 3\n",
        "arr2d[(1, 1)] = 5\n",
        "arr2d[(1, 3)] = 7\n",
        "print(arr2d)\n",
        "# 0, 0, 3, 0,\n",
        "# 0, 5, 0, 7,\n",
        "print(arr2d[(1, 3)])    # 7\n"
      ]
    },
    {
      "cell_type": "code",
      "execution_count": null,
      "id": "4066315c",
      "metadata": {
        "id": "4066315c"
      },
      "outputs": [],
      "source": [
        ""
      ]
    }
  ],
  "metadata": {
    "kernelspec": {
      "display_name": "Python 3 (ipykernel)",
      "language": "python",
      "name": "python3"
    },
    "language_info": {
      "codemirror_mode": {
        "name": "ipython",
        "version": 3
      },
      "file_extension": ".py",
      "mimetype": "text/x-python",
      "name": "python",
      "nbconvert_exporter": "python",
      "pygments_lexer": "ipython3",
      "version": "3.8.10"
    },
    "colab": {
      "name": "1. Arrays.ipynb",
      "provenance": [],
      "include_colab_link": true
    }
  },
  "nbformat": 4,
  "nbformat_minor": 5
}